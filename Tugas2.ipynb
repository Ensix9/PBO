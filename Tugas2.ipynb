{
  "nbformat": 4,
  "nbformat_minor": 0,
  "metadata": {
    "colab": {
      "provenance": [],
      "authorship_tag": "ABX9TyNW9/BW7/fvUKWlytUNuJ2n",
      "include_colab_link": true
    },
    "kernelspec": {
      "name": "python3",
      "display_name": "Python 3"
    },
    "language_info": {
      "name": "python"
    }
  },
  "cells": [
    {
      "cell_type": "markdown",
      "metadata": {
        "id": "view-in-github",
        "colab_type": "text"
      },
      "source": [
        "<a href=\"https://colab.research.google.com/github/Ensix9/PBO/blob/main/Tugas2.ipynb\" target=\"_parent\"><img src=\"https://colab.research.google.com/assets/colab-badge.svg\" alt=\"Open In Colab\"/></a>"
      ]
    },
    {
      "cell_type": "markdown",
      "source": [
        "Nama: Arif Gojoli Riyukari\n",
        "NIM : 230705051\n",
        "MK : Pemograman berorientasi objek\n",
        "Jadwal : Kamis, 7:45-10:20 (U423)"
      ],
      "metadata": {
        "id": "SeJiFHcaqLWe"
      }
    },
    {
      "cell_type": "code",
      "source": [
        "#kelas AkunBank\n",
        "class AkunBank:\n",
        "    def __init__(self, nama, saldo):\n",
        "        self.nama = nama\n",
        "        self.saldo = saldo\n",
        "\n",
        "    def setor(self, jumlah):\n",
        "        self.saldo += jumlah\n",
        "        print(f\"{self.nama} menyetor {jumlah}. Saldo sekarang: {self.saldo}\")\n",
        "\n",
        "    def tarik(self, jumlah):\n",
        "        if jumlah > self.saldo:\n",
        "            print(\"Saldo tidak cukup!\")\n",
        "        else:\n",
        "            self.saldo -= jumlah\n",
        "            print(f\"{self.nama} menarik {jumlah}. Saldo sekarang: {self.saldo}\")\n",
        "\n",
        "# Membuat objek\n",
        "akun1 = AkunBank(\"Andi\", 500000)\n",
        "akun1.setor(200000)\n",
        "akun1.tarik(100000)\n"
      ],
      "metadata": {
        "colab": {
          "base_uri": "https://localhost:8080/"
        },
        "id": "kZuDdLqzmEpR",
        "outputId": "84fb2e8b-d011-490a-d1fa-39c2c8b86247"
      },
      "execution_count": 1,
      "outputs": [
        {
          "output_type": "stream",
          "name": "stdout",
          "text": [
            "Andi menyetor 200000. Saldo sekarang: 700000\n",
            "Andi menarik 100000. Saldo sekarang: 600000\n"
          ]
        }
      ]
    },
    {
      "cell_type": "code",
      "source": [
        "#kelas AkunBank\n",
        "class Lampu:\n",
        "    def __init__(self):\n",
        "        self.status = \"OFF\"\n",
        "\n",
        "    def nyalakan(self):\n",
        "        self.status = \"ON\"\n",
        "        print(\"Lampu dinyalakan.\")\n",
        "\n",
        "    def matikan(self):\n",
        "        self.status = \"OFF\"\n",
        "        print(\"Lampu dimatikan.\")\n",
        "\n",
        "# Membuat objek\n",
        "lampu_kamar = Lampu()\n",
        "lampu_kamar.nyalakan()\n",
        "lampu_kamar.matikan()"
      ],
      "metadata": {
        "colab": {
          "base_uri": "https://localhost:8080/"
        },
        "id": "EDtYv_aYozz6",
        "outputId": "e6e5d6b6-8c0b-4d5d-f34e-aa9663f24eff"
      },
      "execution_count": 4,
      "outputs": [
        {
          "output_type": "stream",
          "name": "stdout",
          "text": [
            "Lampu dinyalakan.\n",
            "Lampu dimatikan.\n"
          ]
        }
      ]
    },
    {
      "cell_type": "code",
      "source": [
        "#kelas AkunBank\n",
        "class Mahasiswa:\n",
        "    def __init__(self, nama, nim):\n",
        "        self.nama = nama\n",
        "        self.nim = nim\n",
        "\n",
        "    def perkenalan(self):\n",
        "        print(f\"Nama saya {self.nama} dengan NIM {self.nim}.\")\n",
        "\n",
        "# Membuat objek\n",
        "mhs1 = Mahasiswa(\"Arif\", \"230705051\")\n",
        "mhs1.perkenalan()\n"
      ],
      "metadata": {
        "colab": {
          "base_uri": "https://localhost:8080/"
        },
        "id": "1jhR0o8YpHwi",
        "outputId": "d44000b4-8565-49e8-9624-297fe3f71a86"
      },
      "execution_count": 6,
      "outputs": [
        {
          "output_type": "stream",
          "name": "stdout",
          "text": [
            "Nama saya Arif dengan NIM 230705051.\n"
          ]
        }
      ]
    },
    {
      "cell_type": "code",
      "source": [
        "#kelas AkunBank\n",
        "class Pegawai:\n",
        "    def __init__(self, nama, jabatan, gaji):\n",
        "        self.nama = nama\n",
        "        self.jabatan = jabatan\n",
        "        self.gaji = gaji\n",
        "\n",
        "    def tampilkan_info(self):\n",
        "        print(f\"Nama: {self.nama}, Jabatan: {self.jabatan}, Gaji: Rp.{self.gaji}\")\n",
        "\n",
        "# Membuat objek\n",
        "pegawai1 = Pegawai(\"Arif\", \"Developer\",9000000000)\n",
        "pegawai1.tampilkan_info()"
      ],
      "metadata": {
        "colab": {
          "base_uri": "https://localhost:8080/"
        },
        "id": "3M-LFPMMpdtm",
        "outputId": "c4d0987e-c9cc-4e84-dafc-2366c8d46a6f"
      },
      "execution_count": 10,
      "outputs": [
        {
          "output_type": "stream",
          "name": "stdout",
          "text": [
            "Nama: Arif, Jabatan: Developer, Gaji: Rp.9000000000\n"
          ]
        }
      ]
    },
    {
      "cell_type": "code",
      "source": [
        "#kelas AkunBank\n",
        "class Buku:\n",
        "    def __init__(self, judul, pengarang, tahun_terbit):\n",
        "        self.judul = judul\n",
        "        self.pengarang = pengarang\n",
        "        self.tahun_terbit = tahun_terbit\n",
        "\n",
        "    def deskripsi(self):\n",
        "        print(f\"'{self.judul}' oleh {self.pengarang}, diterbitkan pada {self.tahun_terbit}.\")\n",
        "\n",
        "# Membuat objek\n",
        "buku1 = Buku(\"Laskar Pelangi\", \"Andrea Hirata\", 2005)\n",
        "buku1.deskripsi()\n"
      ],
      "metadata": {
        "colab": {
          "base_uri": "https://localhost:8080/"
        },
        "id": "15ufUp-pp6EQ",
        "outputId": "7d3c5128-a332-497b-8213-473994a1a86d"
      },
      "execution_count": 11,
      "outputs": [
        {
          "output_type": "stream",
          "name": "stdout",
          "text": [
            "'Laskar Pelangi' oleh Andrea Hirata, diterbitkan pada 2005.\n"
          ]
        }
      ]
    }
  ]
}